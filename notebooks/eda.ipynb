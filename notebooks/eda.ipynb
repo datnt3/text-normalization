{
 "cells": [
  {
   "cell_type": "code",
   "execution_count": 2,
   "id": "a6f53c3a",
   "metadata": {},
   "outputs": [
    {
     "name": "stdout",
     "output_type": "stream",
     "text": [
      "/Users/datnt/Desktop/code/text-normalization\n"
     ]
    }
   ],
   "source": [
    "%cd .."
   ]
  },
  {
   "cell_type": "markdown",
   "id": "75d2e7e8",
   "metadata": {},
   "source": [
    "# Basic statistics"
   ]
  },
  {
   "cell_type": "code",
   "execution_count": 19,
   "id": "018f718a",
   "metadata": {},
   "outputs": [],
   "source": [
    "import os\n",
    "import pandas as pd\n",
    "\n",
    "file = \"data_storage/processed/retagged_data_cleaned.csv\"\n",
    "\n",
    "df = pd.read_csv(file)\n",
    "\n",
    "# df.head(10)"
   ]
  },
  {
   "cell_type": "code",
   "execution_count": 20,
   "id": "b891663c",
   "metadata": {},
   "outputs": [
    {
     "data": {
      "text/plain": [
       "303916"
      ]
     },
     "execution_count": 20,
     "metadata": {},
     "output_type": "execute_result"
    }
   ],
   "source": [
    "len(df)"
   ]
  },
  {
   "cell_type": "code",
   "execution_count": 24,
   "id": "b32acbc3",
   "metadata": {},
   "outputs": [
    {
     "name": "stdout",
     "output_type": "stream",
     "text": [
      "input\n",
      "s_output\n",
      "tagged_sentence\n",
      "tags\n",
      "gpt_tagged_sentence\n",
      "gpt_tags\n",
      "final_tags\n"
     ]
    }
   ],
   "source": [
    "for col in df.columns:\n",
    "  print(col)"
   ]
  },
  {
   "cell_type": "code",
   "execution_count": 22,
   "id": "c062e529",
   "metadata": {},
   "outputs": [
    {
     "name": "stdout",
     "output_type": "stream",
     "text": [
      "final_tags\n",
      "NUM_INT           218744\n",
      "DM                 51482\n",
      "MEASURE            43724\n",
      "NUM_INT1           25529\n",
      "NUM_FLOAT          18208\n",
      "RANGE              16482\n",
      "DMY                11475\n",
      "MY                 10062\n",
      "SCORE               6645\n",
      "HM                  5552\n",
      "MEASURE_RANGE       4477\n",
      "CURRENCY            4046\n",
      "FRACTION            3475\n",
      "TEL                 2083\n",
      "QY                  1264\n",
      "ROMAN               1142\n",
      "YY                   895\n",
      "DD                   783\n",
      "MATH_OPERATOR        696\n",
      "DDM                  655\n",
      "DMDM                 412\n",
      "CURRENCY_RANGE       410\n",
      "HH                   371\n",
      "DMYDMY               339\n",
      "HOUR                 228\n",
      "DDMY                 202\n",
      "MYMY                 182\n",
      "RATIO                127\n",
      "DMDMY                 97\n",
      "HMHM                  70\n",
      "MS                    67\n",
      "MMY                   57\n",
      "MM                    57\n",
      "HMS                   16\n",
      "ROMAN_RANGE            9\n",
      "SS                     8\n",
      "T_MM                   2\n",
      "Name: count, dtype: int64\n"
     ]
    }
   ],
   "source": [
    "tag_counts = (\n",
    "    df[\"final_tags\"]\n",
    "    .dropna()\n",
    "    .str.split(\";\")\n",
    "    .explode()\n",
    "    .str.strip()\n",
    "    .value_counts()\n",
    ")\n",
    "\n",
    "print(tag_counts)"
   ]
  },
  {
   "cell_type": "code",
   "execution_count": 23,
   "id": "ec8808e9",
   "metadata": {},
   "outputs": [
    {
     "name": "stdout",
     "output_type": "stream",
     "text": [
      "MMY: 57 sentences\n",
      "QQY: 0 sentences\n",
      "QQ: 0 sentences\n",
      "MM: 57 sentences\n",
      "HMSHMS: 0 sentences\n",
      "MSMS: 0 sentences\n",
      "HMS: 16 sentences\n",
      "T_MM: 2 sentences\n",
      "SS: 8 sentences\n",
      "MS: 67 sentences\n",
      "TEL1: 0 sentences\n",
      "TEL2: 0 sentences\n",
      "TEL3: 0 sentences\n",
      "TEL4: 0 sentences\n",
      "HOUR_MEASURE: 0 sentences\n",
      "NUM:NUM: 0 sentences\n",
      "NUM-NUM: 0 sentences\n",
      "NUM/NUM: 0 sentences\n",
      "NUM.NUM: 0 sentences\n",
      "ROMAN_RANGE: 9 sentences\n"
     ]
    }
   ],
   "source": [
    "from core.config.config import REGEX_RULE_LIST\n",
    "\n",
    "\n",
    "for category in REGEX_RULE_LIST:\n",
    "    tag = category[\"name\"]\n",
    "    count = tag_counts.get(tag, 0)\n",
    "    if count < 70:\n",
    "        print(f\"{tag}: {count} sentences\")"
   ]
  },
  {
   "cell_type": "code",
   "execution_count": null,
   "id": "cfccedd1",
   "metadata": {},
   "outputs": [],
   "source": [
    "# def clean_tags_field(tag_str):\n",
    "#     tag_set = set()\n",
    "#     if pd.notna(tag_str):\n",
    "#         for tag in tag_str.split(\";\"):\n",
    "#             tag = tag.strip()\n",
    "#             if tag:\n",
    "#                 tag_set.add(tag)\n",
    "#     return \"; \".join(sorted(tag_set))\n",
    "\n",
    "# def clean_tags_row(row):\n",
    "#     row[\"tags\"] = clean_tags_field(row[\"tags\"])\n",
    "#     row[\"gpt_tags\"] = clean_tags_field(row[\"gpt_tags\"])\n",
    "#     row[\"final_tags\"] = clean_tags_field(row[\"final_tags\"])\n",
    "#     return row\n",
    "\n",
    "# df = df.apply(clean_tags_row, axis=1)\n",
    "\n",
    "# # Optional: save cleaned file\n",
    "# df.to_csv(\"/Users/datnt/Desktop/code/text-normalization/data_storage/processed/true_tags_data_cleaned.csv\", index=False)"
   ]
  },
  {
   "cell_type": "code",
   "execution_count": null,
   "id": "694e10f6",
   "metadata": {},
   "outputs": [],
   "source": []
  }
 ],
 "metadata": {
  "kernelspec": {
   "display_name": "text-norm",
   "language": "python",
   "name": "python3"
  },
  "language_info": {
   "codemirror_mode": {
    "name": "ipython",
    "version": 3
   },
   "file_extension": ".py",
   "mimetype": "text/x-python",
   "name": "python",
   "nbconvert_exporter": "python",
   "pygments_lexer": "ipython3",
   "version": "3.10.16"
  }
 },
 "nbformat": 4,
 "nbformat_minor": 5
}
