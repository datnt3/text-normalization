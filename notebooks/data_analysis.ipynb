{
 "cells": [
  {
   "cell_type": "code",
   "execution_count": null,
   "id": "6e5b2ed4",
   "metadata": {},
   "outputs": [],
   "source": [
    "# %cd .."
   ]
  },
  {
   "cell_type": "code",
   "execution_count": null,
   "id": "6ed1c59e",
   "metadata": {},
   "outputs": [],
   "source": [
    "import pandas as pd"
   ]
  },
  {
   "cell_type": "code",
   "execution_count": null,
   "id": "86eac54f",
   "metadata": {},
   "outputs": [],
   "source": [
    "DATA_PATH = \"/Users/datnt/Desktop/code/text-normalization/data_storage/processed/nsw_tagged_data.csv\""
   ]
  },
  {
   "cell_type": "code",
   "execution_count": null,
   "id": "9ad4862b",
   "metadata": {},
   "outputs": [],
   "source": [
    "df = pd.read_csv(DATA_PATH)"
   ]
  },
  {
   "cell_type": "code",
   "execution_count": null,
   "id": "772fd15e",
   "metadata": {},
   "outputs": [],
   "source": [
    "print(df.columns)"
   ]
  },
  {
   "cell_type": "code",
   "execution_count": null,
   "id": "d02a0ad5",
   "metadata": {},
   "outputs": [],
   "source": [
    "pd.set_option('display.max_rows', None)"
   ]
  },
  {
   "cell_type": "markdown",
   "id": "79e2df77",
   "metadata": {},
   "source": [
    "# Basic statistics"
   ]
  },
  {
   "cell_type": "code",
   "execution_count": null,
   "id": "86f863dd",
   "metadata": {},
   "outputs": [],
   "source": [
    "len(df)"
   ]
  },
  {
   "cell_type": "code",
   "execution_count": null,
   "id": "93807347",
   "metadata": {},
   "outputs": [],
   "source": [
    "df.dropna(subset=['tags'])"
   ]
  },
  {
   "cell_type": "code",
   "execution_count": null,
   "id": "afb63072",
   "metadata": {},
   "outputs": [],
   "source": [
    "df.columns"
   ]
  },
  {
   "cell_type": "code",
   "execution_count": null,
   "id": "78960d1d",
   "metadata": {},
   "outputs": [],
   "source": [
    "def get_final_tags(row):\n",
    "  if pd.notna(row['gpt_tags']):\n",
    "    return [tag.strip() for tag in row['gpt_tags'].split(';')]\n",
    "  elif pd.notna(row['tags']):\n",
    "    return [tag.strip() for tag in row['tags'].split(';')]\n",
    "  else:\n",
    "    return\n",
    "  \n",
    "df['final_tags'] = df.apply(get_final_tags, axis=1)\n",
    "all_tags = df.explode('final_tags')\n",
    "\n",
    "tag_counts = all_tags['final_tags'].value_counts()\n",
    "print(tag_counts)\n",
    "\n"
   ]
  },
  {
   "cell_type": "code",
   "execution_count": null,
   "id": "5144ce80",
   "metadata": {},
   "outputs": [],
   "source": [
    "import os\n",
    "from core.common.utils import save_data_to_file\n",
    "# from core.config.config import LABELED_DATA_DIR, TRUE_TAGS_DATA_FILE, WRONG_TAGS_DATA_FILE\n",
    "LABELED_DATA_DIR = \"data_storage/processed\"\n",
    "LABELED_DATA_FILE = \"processed_data.csv\"\n",
    "NSW_TAGGED_DATA_FILE = \"nsw_tagged_data.csv\"\n",
    "WRONG_TAGS_DATA_FILE = \"wrong_tags_data.csv\"\n",
    "TRUE_TAGS_DATA_FILE = \"true_tags_data.csv\"\n",
    "\n",
    "wrong_tags_data = []\n",
    "drop_index = []\n",
    "for index, row in df.iterrows():\n",
    "  for tag in row['final_tags']:\n",
    "    if tag in ['MS', 'MSMS']:\n",
    "      wrong_tags_data.append({\n",
    "        \"input\": row[\"input\"],\n",
    "        \"s_ouput\": row[\"s_ouput\"]\n",
    "      })\n",
    "      drop_index.append(index)\n",
    "      \n",
    "save_data_to_file(labeled_datas=wrong_tags_data, saved_dir=LABELED_DATA_DIR, saved_file=WRONG_TAGS_DATA_FILE)\n",
    "df.drop(drop_index, inplace=True)\n",
    "df.to_csv(os.path.join(LABELED_DATA_DIR, TRUE_TAGS_DATA_FILE))"
   ]
  },
  {
   "cell_type": "code",
   "execution_count": null,
   "id": "b09a1e30",
   "metadata": {},
   "outputs": [],
   "source": [
    "%pwd"
   ]
  },
  {
   "cell_type": "markdown",
   "id": "109d0723",
   "metadata": {},
   "source": [
    "NUM int a b c\n",
    "num.num\n",
    "hour_measure\n"
   ]
  },
  {
   "cell_type": "code",
   "execution_count": null,
   "id": "aa496976",
   "metadata": {},
   "outputs": [],
   "source": []
  },
  {
   "cell_type": "code",
   "execution_count": null,
   "id": "35dd3a24",
   "metadata": {},
   "outputs": [],
   "source": [
    "tag = 'HOUR_MEASURE'\n",
    "for index, row in df.iterrows():\n",
    "  if pd.notna(row['gpt_tags']):\n",
    "    if tag in [gpt_tag.strip() for gpt_tag in row['gpt_tags'].split(';')]:\n",
    "      print(row['input'])"
   ]
  },
  {
   "cell_type": "code",
   "execution_count": null,
   "id": "f5cfc996",
   "metadata": {},
   "outputs": [],
   "source": [
    "tag = 'NUM'\n",
    "\n",
    "for index, row in df.iterrows():\n",
    "    if row['final_tags'] and tag in row['final_tags']:\n",
    "        print(row['input'])\n"
   ]
  },
  {
   "cell_type": "code",
   "execution_count": null,
   "id": "6ffd9ed5",
   "metadata": {},
   "outputs": [],
   "source": [
    "from core.config.config import REGEX_RULE_LIST\n",
    "\n",
    "\n",
    "for category in REGEX_RULE_LIST:\n",
    "    tag = category[\"name\"]\n",
    "    count = tag_counts.get(tag, 0)\n",
    "    print(f\"{tag}: {count} sentences\")\n"
   ]
  },
  {
   "cell_type": "code",
   "execution_count": null,
   "id": "c10c0f18",
   "metadata": {},
   "outputs": [],
   "source": [
    "df[(df['tags'] == '') | (df['tags'] == ' ')]\n"
   ]
  },
  {
   "cell_type": "code",
   "execution_count": null,
   "id": "ecbc7915",
   "metadata": {},
   "outputs": [],
   "source": [
    "df[(df['tags'].isna()) | (df['tags'] == '') | (df['tags'] == ' ')]"
   ]
  },
  {
   "cell_type": "code",
   "execution_count": null,
   "id": "8d685558",
   "metadata": {},
   "outputs": [],
   "source": [
    "count = df[(df['tags'].isna()) | (df['tags'] == '') | (df['tags'].str.strip() == '')].shape[0]\n",
    "print(count)\n"
   ]
  },
  {
   "cell_type": "code",
   "execution_count": null,
   "id": "02f90413",
   "metadata": {},
   "outputs": [],
   "source": [
    "print(all_tags[all_tags['final_tags'].str.strip() == ''])\n",
    "empty_tag_count = all_tags['final_tags'].str.strip().eq('').sum()\n",
    "print(empty_tag_count)\n",
    "\n"
   ]
  },
  {
   "cell_type": "code",
   "execution_count": null,
   "id": "481560f4",
   "metadata": {},
   "outputs": [],
   "source": [
    "row = df.iloc[354]  # replace with actual index\n",
    "print(\"TAGS:\", row['tags'])\n",
    "print(\"GPT_TAGS:\", row['gpt_tags'])\n"
   ]
  },
  {
   "cell_type": "code",
   "execution_count": null,
   "id": "84ed9911",
   "metadata": {},
   "outputs": [],
   "source": [
    "row_index = 300853\n",
    "print(repr(df.loc[row_index, 'input']))\n",
    "print(repr(df.loc[row_index, 'tags']))\n",
    "print(repr(df.loc[row_index, 'gpt_tags']))\n"
   ]
  },
  {
   "cell_type": "code",
   "execution_count": null,
   "id": "9e28b654",
   "metadata": {},
   "outputs": [],
   "source": [
    "df.tags.value_counts(normalize=True)"
   ]
  }
 ],
 "metadata": {
  "kernelspec": {
   "display_name": "text-norm",
   "language": "python",
   "name": "python3"
  },
  "language_info": {
   "codemirror_mode": {
    "name": "ipython",
    "version": 3
   },
   "file_extension": ".py",
   "mimetype": "text/x-python",
   "name": "python",
   "nbconvert_exporter": "python",
   "pygments_lexer": "ipython3",
   "version": "3.10.16"
  }
 },
 "nbformat": 4,
 "nbformat_minor": 5
}
