{
 "cells": [
  {
   "cell_type": "code",
   "execution_count": 26,
   "metadata": {},
   "outputs": [
    {
     "data": {
      "text/plain": [
       "'/Users/datnt/Desktop/code/text-normalization'"
      ]
     },
     "execution_count": 26,
     "metadata": {},
     "output_type": "execute_result"
    }
   ],
   "source": [
    "%pwd"
   ]
  },
  {
   "cell_type": "code",
   "execution_count": 17,
   "metadata": {},
   "outputs": [
    {
     "name": "stdout",
     "output_type": "stream",
     "text": [
      "/Users/datnt/Desktop/code/text-normalization\n"
     ]
    }
   ],
   "source": [
    "%cd .."
   ]
  },
  {
   "cell_type": "code",
   "execution_count": 10,
   "metadata": {},
   "outputs": [
    {
     "name": "stdout",
     "output_type": "stream",
     "text": [
      "<class 'list'>\n"
     ]
    },
    {
     "data": {
      "text/plain": [
       "'Riêng tại SEA Games 25 vào năm 2009 ở Lào, đội tuyển bóng bàn Việt Nam cực kỳ đồng đều.'"
      ]
     },
     "execution_count": 10,
     "metadata": {},
     "output_type": "execute_result"
    }
   ],
   "source": [
    "import json\n",
    "\n",
    "# str = '''{\"__complex__\": true'''\n",
    "str = '''\n",
    "[\n",
    "  {\n",
    "    \"input\": \"Riêng tại SEA Games 25 vào năm 2009 ở Lào, đội tuyển bóng bàn Việt Nam cực kỳ đồng đều.\",\n",
    "    \"s_output\": \"Riêng tại SEA Games hai mươi lăm vào năm hai nghìn không trăm chín ở Lào, đội tuyển bóng bàn Việt Nam cực kỳ đồng đều.\"\n",
    "  },\n",
    "  {\n",
    "    \"input\": \"Khi đó, 3 tay vợt của đội nam là Đoan Kiến Quốc, Trần Tuấn Quỳnh và Đinh Quang Linh gần như ngang nhau về mặt trình độ.\",\n",
    "    \"s_output\": \"Khi đó, ba tay vợt của đội nam là Đoan Kiến Quốc, Trần Tuấn Quỳnh và Đinh Quang Linh gần như ngang nhau về mặt trình độ.\"\n",
    "  }\n",
    "]'''\n",
    "res = json.loads(str)\n",
    "print(type(res))\n",
    "res[0][\"input\"]"
   ]
  },
  {
   "cell_type": "code",
   "execution_count": 50,
   "metadata": {},
   "outputs": [
    {
     "name": "stdout",
     "output_type": "stream",
     "text": [
      "2736\n"
     ]
    }
   ],
   "source": [
    "import re\n",
    "\n",
    "# Path to your log file\n",
    "log_file_path = \"data_label.log\"\n",
    "\n",
    "# List to store the extracted paragraphs\n",
    "extracted_paragraphs = []\n",
    "\n",
    "# Regex pattern to capture text between 'Finish processing paragraph' and 'INFO: ================================'\n",
    "pattern = re.compile(r'Finish processing paragraph \\d+\\n(.*?)\\n\\d{2}:\\d{2}:\\d{2} INFO: ================================', re.DOTALL)\n",
    "\n",
    "# Open and read the log file\n",
    "with open(log_file_path, 'r', encoding='utf-8') as log_file:\n",
    "    log_content = log_file.read()\n",
    "    \n",
    "    # Find all matches for the pattern\n",
    "    matches = pattern.findall(log_content)\n",
    "    \n",
    "    # Store the extracted paragraphs\n",
    "    extracted_paragraphs.extend(matches)\n",
    "\n",
    "# Printing the extracted paragraphs (optional)\n",
    "# for i in range(5):\n",
    "#   print(extracted_paragraphs[i])\n",
    "\n",
    "# You can then save the extracted paragraphs to a CSV file if needed\n",
    "print(len(extracted_paragraphs))\n"
   ]
  },
  {
   "cell_type": "code",
   "execution_count": 5,
   "metadata": {},
   "outputs": [
    {
     "data": {
      "text/plain": [
       "'Sau chức vô địch bun-de-liga và champions lếch, ba-yer munich bước vào trận chung kết đê-ê-ép cúp (cúp quốc gia đức) với cơ hội trở thành đội bóng đức đầu tiên làm nên cú ăn ba lịch sử. So với trận chung kết champions lếch, đội hình ra quân của ba-yer munich có hai sự thiếu vắng đáng kể khi trung vệ đan-te và tiền vệ lu-iz gu-ta-xtô không thể cùng đồng đội tham dự trận đấu tại béc-lin vì bận tập trung cùng đội tuyển bra-xin chuẩn bị cho côn-fed cúp.  \\nBa-yer munich trải qua chín mươi phút nhọc nhằn trước s-tút-gác. Ngoài ra huấn luyện viên jupp hayn-ke-s cũng có sự thay đổi bất ngờ ở vị trí trung phong khi sử dụng ma-ri-ô go-mez thi đấu ngay từ đầu thay vì ma-ri-ô man-đu-kích. Tương tự như trận chung kết champions lếch, ba-yer munich là đội nhập cuộc chậm hơn và để cho đối phương lấn lướt về mặt thế trận lẫn số cơ hội ăn bàn. Khung thành của thủ môn no-uy-er liên tục bị chao đảo bởi những pha dàn xếp tấn công sắc sảo của s-tút-gác mà đáng kể nhất là hai pha dứt điểm của ma-xim và nie-đe-me-ier.  \\nSau khoảng hai mươi phút đầu thi đấu khá bế tắc, cỗ máy chiến thắng của huấn luyện viên jupp hayn-ke-s dần vào guồng và lấy lại thế trận. Phút hai mươi bảy, a-la-ba được trao cơ hội ghi bàn nhưng lại dứt điểm trúng người thủ thành ul-reich trong tình huống đối mặt. Tuy nhiên chỉ mười phút sau, tra-o-re lóng ngóng phạm lỗi với phi-líp la-m trong vòng cấm địa và tô-mát mu-lơ không bỏ lỡ cơ hội từ khoảng cách mười một mét mở tỉ số cho “hùm xám” xứ ba-va-ri-a.  \\nBước sang hiệp đấu thứ hai, sự sắc sảo trong tấn công của ba-yer munich càng được thể hiện rõ rệt. Chỉ ba phút sau khi hiệp hai bắt đầu, bắt nguồn từ pha chồng cách đẹp mắt giữa ro-bên và la-m bên cánh phải rồi căng ngang vào bên trong, ma-ri-ô go-mez dễ dàng nhân đôi cách biệt bằng pha băng vào dứt điểm cận thành tung lưới ul-reich. Đến phút sáu mươi mốt, kịch bản được lặp lại nhưng lần này người căng ngang cho go-mez ghi bàn là tô-mát mu-lơ.  \\nTưởng chừng như đã nắm chắc chiến thắng trong tay, các cầu thủ ba-yer munich có dấu hiệu chủ quan trong khi s-tút-gác vẫn thi đấu đầy quyết tâm, chính vì vậy mà những phút cuối trận đã diễn ra vô cùng căng thẳng và kịch tính. Phút thứ bảy mươi, từ quả tạt bóng như đặt của g. sa-kai, har-nik đánh đầu chéo góc đẹp mắt hạ gục thủ thành no-uy-er rút ngắn tỉ số trận đấu xuống còn một ba cho s-tút-gác.  \\nBa-yer munich hoàn tất cú ăn ba lịch sử. Chỉ chín phút sau, cơ hội làm nên cú lội ngược dòng ngoạn mục hiển hiện trước mắt s-tút-gác khi har-nik một lần nữa làm tung lưới no-uy-er sau ba cú dứt điểm liên tiếp trong vòng cấm. Tuy nhiên đó là tất cả những gì mà s-tút-gác có thể làm được khi những phút cuối cùng ba-yer munich chơi tử thủ đầy kiên cường để bảo toàn cách biệt một bàn mong manh.  \\nTrận đấu kết thúc với tỉ số ba hai nghiêng về ba-yer munich và thầy trò jupp hayn-ke-s chính thức đăng quang tại cúp quốc gia đức. Với danh hiệu này, “hùm xám” xứ ba-va-ri-a đã trở thành đội bóng đức đầu tiên làm nên cú ăn ba lịch sử. Ngoài ra chiến thắng trước s-tút-gác có thể xem là lời chia tay không thể ngọt ngào hơn của huấn luyện viên jupp hayn-ke-s, người sẽ nhượng lại vị trí dẫn dắt ba-yer munich cho pep gua-đi-ô-la từ tháng bảy tới.  \\nĐội hình thi đấu:  \\nBa-yer munich: no-uy-er; la-m, van bu-yten, bo-a-teng, a-la-ba; ha-vi ma-ti-nez, schwein-stei-ger; ro-bên (ti-mo-schuk tám mươi ba), t. mu-lơ, ri-be-ri (sha-ki-ri chín mươi phút một); go-mez (man-đu-kích sáu mươi hai).  \\nS-tút-gác: ul-reich; ru-e-di-ger, ta-sci, nie-đe-me-ier, mo-li-na-ro (sa-kai sáu mươi bảy); gent-ner, bo-ka; har-nik, ma-xim (o-ka-za-ki sáu mươi mốt), tra-o-re (ca-cao bẩy mươi lăm); i-bi-se-vic.  \\nNgọc Trung\\n'"
      ]
     },
     "execution_count": 5,
     "metadata": {},
     "output_type": "execute_result"
    }
   ],
   "source": [
    "len(extracted_paragraphs) \n",
    "extracted_paragraphs[1500]"
   ]
  },
  {
   "cell_type": "code",
   "execution_count": 43,
   "metadata": {},
   "outputs": [],
   "source": [
    "from typing import List\n",
    "import pandas as pd\n",
    "# from core.config.config import LABELED_DATA_DIR, LABELED_DATA_FILE\n",
    "LABELED_DATA_DIR = \"data_storage/processed\"\n",
    "LABELED_DATA_FILE = \"processed_data.csv\"\n",
    "import os\n",
    "\n",
    "\n",
    "def save_datas_to_file(labeled_datas: List) -> None:\n",
    "      data_dict = {\"labeled_datas\": labeled_datas}\n",
    "      \n",
    "      df = pd.DataFrame(data_dict)\n",
    "      if not os.path.exists(LABELED_DATA_DIR):\n",
    "        os.makedirs(LABELED_DATA_DIR, exist_ok=True)\n",
    "        \n",
    "      df.to_csv(os.path.join(LABELED_DATA_DIR, LABELED_DATA_FILE), mode=\"a\", index=False)"
   ]
  },
  {
   "cell_type": "code",
   "execution_count": 51,
   "metadata": {},
   "outputs": [],
   "source": [
    "save_datas_to_file(extracted_paragraphs)"
   ]
  },
  {
   "cell_type": "code",
   "execution_count": 52,
   "metadata": {},
   "outputs": [],
   "source": [
    "import pandas as pd \n",
    "file = \"data_storage/processed/processed_data.csv\"\n",
    "\n",
    "df = pd.read_csv(file)"
   ]
  },
  {
   "cell_type": "code",
   "execution_count": 34,
   "metadata": {},
   "outputs": [
    {
     "name": "stdout",
     "output_type": "stream",
     "text": [
      "18\n",
      "MU có một trận thắng dễ dàng trên sân của QPR, đội khách đã ghi bàn mở tỷ số ở phút hai mươi ba sau một cú sút rất đẹp mắt của ra-fa-el, bàn thắng ấn định tỷ số hai không được giggs ghi ở phút tám mươi. Chiến thắng cho MU là hoàn toàn xứng đáng, bởi suốt cả trận QPR không có mổi một tình huống khiến khung thành của đội đầu bảng chao đảo.\n",
      "\n",
      "Vòng hai mươi bảy Premier League liverpool năm không swansea Thứ bảy, hai mươi ba tháng hai năm hai nghìn mười ba fulham một không stoke city arsenal hai một aston villa norwich hai một everton QPR không hai MU reading không ba wigan west brom hai một sunderland Chủ nhật, hai mươi bốn tháng hai năm hai nghìn mười ba man city - chelsea (hai mươi giờ ba mươi) newcastle - southampton Thứ ba, hai mươi sáu tháng hai năm hai nghìn mười ba\n",
      "\n",
      "west ham - tottenham ba giờ không. Tuy nhiên, đây không phải trận đấu hay của MU như thường lệ. Các trận đấu gần đây người hâm mộ thường xuyên được chứng kiến một MU máu lửa, tấn công nhiệt tình. Điều đó đã không xảy ra ở trận đấu này khi các cầu thủ đội khách thi đấu cầm chừng và không tranh chấp quyết liệt, tổ chức tấn công với tốc độ chậm chạp.\n",
      "\n",
      "Thậm chí, MU còn có tỷ lệ kiểm soát bóng thấp hơn cả QPR (bốn mươi tám phẩy năm phần trăm - năm mươi một phẩy năm phần trăm). Có lẽ việc phải gặp real madrid vào giữa tuần sau nữa đã khiến MU phải giữ chân và điều đó khiến trận đấu của họ kém hấp dẫn. Nhưng dù sao các cổ động viên cũng có thể hài lòng với kết quả khi giờ đây MU đã hơn man city mười lăm điểm và có lẽ \"quỷ đỏ\" đã chạm một tay vào cúp vô địch.\n",
      "\n",
      "Những phút đầu trận hai đội thi đấu khá chậm, phút mười sáu, MU có được cơ hội đầu tiên trước khung thành của đội chủ nhà, young tạt bóng từ bên cánh trái vào trong vòng cấm, chicharito đã chọn vị trí tốt để đứt điểm bằng đầu, cú đánh đầu ngược của anh bóng đi có phần bất ngờ, nhưng cesar vẫn kịp phản ứng để đẩy bóng vọt xà.\n",
      "\n",
      "MU chơi không nhanh, nhưng đội khách vẫn nhỉnh hơn một chút về thời lượng kiểm soát bóng. Phút hai mươi ba, van persie có bóng bên góc phải vòng cấm địa, anh cố gắng xâm nhập vào trong rồi tung ra đường chuyền cắt mặt khung thành cho đồng đội bên trong, nhưng thủ thành cesar đã kịp thời đẩy bóng ra xa.\n",
      "\n",
      "Bóng bật ra đến đầu góc phải vòng cấm địa (tính theo hướng tấn công của MU), ra-fa-el đã lao vào và tung ra cú dứt điểm bằng mu lai má chân phải đưa bóng găm thẳng vào góc cao bên trái khung thành. Một cú sút khiến cesar chỉ còn biết đứng nhìn bóng đi vào lưới và MU vươn lên dẫn trước một không.\n",
      "\n",
      "Sau bàn thắng, các cầu thủ MU có phần chơi chậm lại và để đối phương có được nhiều khoảng trống hơn, tuy nhiên khả năng tổ chức tấn công của đội chủ nhà quá yếu. Phút ba mươi sáu, ra-fa-el treo bóng vào trong vòng cấm địa cho van persie băng xuống dứt điểm nhanh bằng chân trái. Pha dứt điểm khá hiểm của van persie đã bị cesar cản phá thành công.\n",
      "\n",
      "Năm phút sau, van persie có vẻ bị đau nhẹ và huấn luyện viên ferguson tung welbeck vào thay, ngay lập tức cầu thủ này thực hiện cú sút phạt từ sát biên phải, ngang tầm với vạch vôi đầu vòng cấm địa. Cú treo bóng của welbeck đã được vidic đánh đầu, bóng đi chệch cột dọc trong gang tấc.\n",
      "\n",
      "Bước vào hiệp thi đấu thứ hai, lối chơi hai đội không có nhiều sự thay đổi, MU vẫn chủ động nhường thế trận cho QPR, tuy nhiên các cầu thủ chủ nhà đang rất bế tắc trong việc tổ chức tấn công, thậm chí trong mười lăm phút đầu tiên của hiệp thi đấu thứ hai, họ không một lần tiếp cận được khung thành của de gea.\n",
      "\n",
      "Một hiệp đấu khá tẻ nhạt đang diễn ra khi MU đá cầm chừng, còn QPR lại quá nhạt nhòa. Việc van persie ra sân khiến ferguson lo lắng cho hàng công và rồi ông cũng quyết định tung rooney vào sân dù cầu thủ này chưa ở tình trạng thể lực tốt nhất. Phút bảy mươi sáu, rooney để lại dấu ấn với cú sút từ trung tâm vòng cấm địa, bóng đập chân hậu vệ đội chủ nhà bật ra.\n",
      "\n",
      "Đến phút tám mươi, nani chuyền bóng cho giggs băng xuống nhận bóng bên trái vòng cấm địa, toàn bộ hàng thủ QPR dừng lại vì cho rằng giggs việt vị, nhưng tiền vệ người xứ wales vẫn lạnh lùng dứt điểm gọn gàng hạ gục cesar nâng tỷ số lên hai không. Pha quay chậm cho thấy hàng thủ của QPR đã bẫy việt vị không thành công và bàn thắng của giggs hoàn toàn hợp lệ.\n",
      "\n",
      "Hai phút sau, giggs nhận bóng trong vòng cấm và tung ra một cú lốp bóng điệu nghệ, tưởng chừng cú kết thúc của lão tướng người xứ wales đã đưa bóng đi ra ngoài, nhưng bóng lại rơi trúng xà ngang và bật trở lại, một tình huống kém may của giggs, bởi chỉ chút nữa anh đã có cú đúp. Những phút cuối trận không có đội nào có thêm bàn thắng nên MU giành trọn ba điểm.\n",
      "\n",
      "Đội hình thi đấu\n",
      "\n",
      "QPR: cesar, bosingwa, samba, hill, traore, townsend (hoilett, bảy mươi ba), granero (jenas, bốn mươi lăm), mbia, mackie, taarabt, zamora (remy, sáu mươi một); Dự bị: green, park, wright-phillips, onouha\n",
      "\n",
      "man utd: de gea, ra-fa-el, evra, ferdinand, vidic, giggs, carrick, nani, young (valencia, sáu mươi tám), van persie (welbeck, bốn mươi mốt), hernandez (rooney, sáu mươi một); Dự bị: lindergaard, evans, cleverley, anderson,\n",
      "\n",
      "bảng xếp hạng premier league năm hai nghìn mười hai/ mười ba TT Đội Điểm Trận T H B H/s 1 manchester united 68 27 22 2 3 64-31 2 manchester city 53 26 15 8 3 48-24 3 FC chelsea 49 26 14 7 5 55-28 4 tottenham hotspur 48 26 14 6 6 44-30 5 FC arsenal 44 26 12 8 6 50-29 6 everton 42 27 10 12 5 41-34 7 west bromwich albion 40 27 12 4 11 38-36 8 FC liverpool 39 27 10 9 8 49-34 9 swansea city 37 27 9 10 8 38-34 10 stoke city 33 27 7 12 8 26-32 11 FC fulham 32 27 8 8 11 37-42 12 norwich city 32 27 7 11 9 27-41 13 west ham united 30 26 8 6 12 29-38 14 AFC sunderland 29 27 7 8 12 29-36 15 FC southampton 27 26 6 9 11 36-45 16 newcastle united 27 26 7 6 13 34-46 17 wigan athletic 24 27 6 6 15 33-51 18 aston villa 24 26 5 9 12 25-50 19 FC reading 23 27 5 8 14 33-51 20 queens park rangers 17 27 2 11 14 19-43\n",
      "\n",
      "phù sa\n",
      "\n"
     ]
    }
   ],
   "source": [
    "import pandas as pd \n",
    "file = \"data_storage/processed/processed_data_test.csv\"\n",
    "\n",
    "with open(file, mode='r') as f:\n",
    "  lines = f.readlines()\n",
    "  print(len(lines))\n",
    "  for line in lines:\n",
    "    print(line.strip() + \"\\n\")"
   ]
  },
  {
   "cell_type": "code",
   "execution_count": 53,
   "metadata": {},
   "outputs": [
    {
     "data": {
      "text/plain": [
       "2737"
      ]
     },
     "execution_count": 53,
     "metadata": {},
     "output_type": "execute_result"
    }
   ],
   "source": [
    "df.__len__()"
   ]
  },
  {
   "cell_type": "code",
   "execution_count": 54,
   "metadata": {},
   "outputs": [
    {
     "data": {
      "text/html": [
       "<div>\n",
       "<style scoped>\n",
       "    .dataframe tbody tr th:only-of-type {\n",
       "        vertical-align: middle;\n",
       "    }\n",
       "\n",
       "    .dataframe tbody tr th {\n",
       "        vertical-align: top;\n",
       "    }\n",
       "\n",
       "    .dataframe thead th {\n",
       "        text-align: right;\n",
       "    }\n",
       "</style>\n",
       "<table border=\"1\" class=\"dataframe\">\n",
       "  <thead>\n",
       "    <tr style=\"text-align: right;\">\n",
       "      <th></th>\n",
       "      <th>labeled_datas</th>\n",
       "    </tr>\n",
       "  </thead>\n",
       "  <tbody>\n",
       "    <tr>\n",
       "      <th>2736</th>\n",
       "      <td>MU có một trận thắng dễ dàng trên sân của quyê...</td>\n",
       "    </tr>\n",
       "  </tbody>\n",
       "</table>\n",
       "</div>"
      ],
      "text/plain": [
       "                                          labeled_datas\n",
       "2736  MU có một trận thắng dễ dàng trên sân của quyê..."
      ]
     },
     "execution_count": 54,
     "metadata": {},
     "output_type": "execute_result"
    }
   ],
   "source": [
    "df.tail(1)"
   ]
  }
 ],
 "metadata": {
  "kernelspec": {
   "display_name": "text-norm",
   "language": "python",
   "name": "python3"
  },
  "language_info": {
   "codemirror_mode": {
    "name": "ipython",
    "version": 3
   },
   "file_extension": ".py",
   "mimetype": "text/x-python",
   "name": "python",
   "nbconvert_exporter": "python",
   "pygments_lexer": "ipython3",
   "version": "3.10.16"
  }
 },
 "nbformat": 4,
 "nbformat_minor": 2
}
