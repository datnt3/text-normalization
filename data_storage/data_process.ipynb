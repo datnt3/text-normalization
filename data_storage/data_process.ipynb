{
 "cells": [
  {
   "cell_type": "code",
   "execution_count": null,
   "metadata": {},
   "outputs": [],
   "source": [
    "import pandas as pd\n",
    "import re\n",
    "\n",
    "log_file_path = \"D:/text-normalization/data_label.log\"\n",
    "\n",
    "# List to store extracted data\n",
    "extracted_data = []\n",
    "\n",
    "# Open and read the log file\n",
    "with open(log_file_path, 'r', encoding='utf-8') as log_file:\n",
    "    for line in log_file:\n",
    "        # Assuming each result is printed on a single line in a format like: labeled_data: {...}\n",
    "        match = re.search(r'labeled_data:\\s*(\\{.*\\})', line)  # Adjust the regex pattern based on the log format\n",
    "        if match:\n",
    "            # Extract and process the labeled data\n",
    "            labeled_data_str = match.group(1)\n",
    "            # You can convert it to a dict or list depending on your data format (example assumes dict-like structure)\n",
    "            labeled_data = eval(labeled_data_str)\n",
    "            extracted_data.append(labeled_data)\n",
    "\n",
    "# Convert the extracted data to a DataFrame and save to CSV\n",
    "df = pd.DataFrame(extracted_data)\n",
    "df.to_csv('labeled_data.csv', index=False)\n"
   ]
  },
  {
   "cell_type": "code",
   "execution_count": null,
   "metadata": {},
   "outputs": [
    {
     "name": "stdout",
     "output_type": "stream",
     "text": [
      "Trong thời gian gần đây, vấn đề tài chính cũng như vấn đề nguồn cầu thủ luôn là vấn đề đau đầu câu lạc bộ thành phố Hồ Chí Minh, nhất là khi thời hạn đăng ký tham dự mùa giải mới, cũng như thời hạn chứng minh năng lực tài chính mà liên đoàn bóng đá Việt Nam quy định đối với các đội bóng chuyên nghiệp gần đến (hạn chót là ngày ba mươi tháng mười).\n",
      "Trong bối cảnh đó, câu lạc bộ thành phố Hồ Chí Minh vừa nhận được sự hỗ trợ cực kỳ kịp lúc từ phía người anh em cùng thành phố là xuân thành Sài Gòn. Theo đó, xuân thành Sài Gòn nhiều khả năng sẽ chi viện cho câu lạc bộ khoảng bảy đến tám cầu thủ, trong đó có cả ngoại binh em-ê-khà.\n",
      "Những cầu thủ trẻ của xuân thành Sài Gòn như Tuấn Linh, Thế Sơn, Công Thành, Thứa Trí, Trọng Phi… tiến bộ rất nhanh trong thời gian vừa qua, tạo được một số dấu ấn tại vi-lích. Nên nếu những cầu thủ này khoác áo câu lạc bộ thành phố Hồ Chí Minh, thì đấy sẽ là sự bổ sung rất quý giá cho đội bóng thành phố.\n",
      "\n",
      "Bầu Thụy (trái) bất ngờ quyết định hỗ trợ cho câu lạc bộ thành phố Hồ Chí Minh\n",
      "Bầu Thụy (trái) bất ngờ quyết định hỗ trợ cho câu lạc bộ thành phố Hồ Chí Minh\n",
      "Động thái này được đại diện phía câu lạc bộ thành phố Hồ Chí Minh đón nhận khá hồ hởi, bởi trong bối cảnh đội khó khăn đủ đường như hiện nay, tìm được người giang tay giúp đỡ đội bóng là không hề dễ dàng.\n",
      "Còn về vấn đề kinh phí, như chúng tôi từng đề cập trước đó, đấy là vấn đề nóng nhất của câu lạc bộ thành phố Hồ Chí Minh vào lúc này. Tiền ngân sách không thể bao cấp hoàn toàn cho đội bóng này, vì làm thế là trái nguyên tắc tài chính và trái với xu thế xã hội hóa thể dục thể thao. Ngành thể dục thể thao thành phố Hồ Chí Minh chỉ hỗ trợ một phần, còn đội bóng phải kêu gọi thêm tài trợ.\n",
      "Không loại trừ khả năng ông bầu Nguyễn Đức Thụy sẽ tài trợ một phần cho câu lạc bộ thành phố Hồ Chí Minh, vì theo như ông bầu này, ông vẫn còn nghĩa vụ hỗ trợ bóng đá thành phố, dù câu lạc bộ xuân thành Sài Gòn của ông đã không còn tồn tại.\n",
      "Theo như ông Thụy nói, thì: “Hiện tại tôi chưa bàn sâu đến khả năng hỗ trợ kinh phí, nhưng nếu họ thiết tha, thì tôi sẽ nghiêm túc tính đến chuyện tài trợ. Tôi vẫn nặng tình và vẫn muốn chơi đẹp với bóng đá thành phố Hồ Chí Minh, muốn giúp đội thăng hạng”.\n",
      "Sau khi câu lạc bộ xuân thành Sài Gòn rút lui khỏi giải vi-lích hai nghìn mười ba, đội bóng của bầu Thụy bị giáng xuống hạng ba, còn chủ tịch của câu lạc bộ này là ông Nguyễn Xuân Thủy bị cấm tham gia các hoạt động bóng đá trong năm năm.\n",
      "Riêng bầu Thụy không dính lệnh cấm hành nghề từ phía liên đoàn bóng đá Việt Nam, nên ông Thụy hoàn toàn có thể tham gia tài trợ cho câu lạc bộ thành phố Hồ Chí Minh, nếu ông vẫn còn tâm huyết với bóng đá thành phố.\n",
      "\n",
      "Với trận thắng năm một trước úc, u mười chín việt nam đã hoàn tất ba trận toàn thắng tại bảng f, chính thức có vé tham dự vòng chung kết châu á hai không một bốn, diễn ra tại mi-an-ma. Đây là một kết quả có phần bất ngờ, bởi tại bảng f, úc chính là ứng cử viên nặng ký nhất cho tấm vé tham dự vòng chung kết. Ngay cả trước khi trận đấu diễn ra, giới chuyên môn và người hâm mộ cũng chỉ nghĩ tới một trận hòa với u mười chín việt nam.\n",
      "\n",
      "U mười chín việt nam đã có chiến thắng hoàn hảo trước úc - Ảnh: gia hưng\n",
      "\n",
      "U mười chín việt nam đã có chiến thắng hoàn hảo trước úc - Ảnh: gia hưng\n",
      "Thế nhưng, thầy trò huấn luyện viên gui-lô-m gờ-ra-chen thậm chí còn làm tốt hơn như vậy, khi đánh bại u mười chín úc trong một trận đấu kiểm soát hoàn toàn thế trận. \n",
      "Đánh giá về trận đấu này, huấn luyện viên gui-lô-m gờ-ra-chen cho biết: “Trước khi trận đấu diễn ra, u mười chín việt nam gặp bất lợi không nhỏ từ tình hình chấn thương của các trụ cột. Tuy nhiên, tôi luôn yêu cầu các cầu thủ vào sân phải thi đấu với sự tự tin, thoải mái và khát khao chiến thắng. Và tôi đã rất hài lòng khi các học trò của mình làm tốt những gì mà ban huấn luyện kỳ vọng”.\n",
      "“Úc là đối thủ được đánh giá mạnh, có thể hình to cao, nhưng chúng tôi đã không gặp khó khăn trong việc chống bóng bổng. Đó là vì trước khi giải diễn ra, các cầu thủ u mười chín việt nam thuộc học viện ha gia lai, đã có những chuyến tập huấn châu âu, gặp nhiều đối thủ có chiều cao, thể hình tốt, nên không bị khớp khi gặp úc”, huấn luyện viên gui-lô-m gờ-ra-chen nói tiếp. \n",
      "Đặc biệt, huấn luyện viên người pháp sau trận đấu đã tiết lộ một thông tin khá bất ngờ. Huấn luyện viên gui-lô-m gờ-ra-chen cho biết trước khi trận đấu diễn ra, ông đã dự đoán u mười chín việt nam sẽ giành chiến thắng với tỷ số bốn một, bất chấp nhiều ý kiến cho rằng u mười chín việt nam giành một trận hòa cũng là xuất sắc.\n",
      "“Tôi không bất ngờ về chiến thắng của đội, nhưng lại bất ngờ vì các học trò ghi tới năm bàn thắng. Bởi trước trận đấu, tôi đã dự đoán u mười chín việt nam sẽ có chiến thắng với tỷ số bốn một,” huấn luyện viên gui-lô-m gờ-ra-chen tiết lộ. \n",
      "U mười chín việt nam chính thức có vé tham dự vòng chung kết năm hai không một bốn. Để có thành công này, ngoài sự đoàn kết của toàn đội, huấn luyện viên gui-lô-m gờ-ra-chen cho rằng chính sự quan tâm, ủng hộ của người hâm mộ việt nam, đã tiếp thêm sức mạnh cho các cầu thủ trẻ. Đặc biệt, trong trận đấu chiều nay, các cầu thủ đã chiến đấu hết mình để tưởng nhớ đến đại tướng võ nguyên giáp. Các thành viên của đội tuyển u mười chín việt nam đều đeo băng đen trên ngực và dành một phút tưởng niệm trước khi trận đấu diễn ra.\n",
      "Về phần mình, trước màn trình diễn quá thuyết phục của u mười chín việt nam, huấn luyện viên pa-ol ó-côn đã dành những lời chúc mừng và khen ngợi tới thầy trò huấn luyện viên gui-lô-m. \n",
      "Sau trận đấu, đích thân huấn luyện viên trưởng của úc pa-ol ó-côn đã sang khu kỹ thuật của u mười chín việt nam để bắt tay chúc mừng người đồng nghiệp và các cầu thủ trẻ của việt nam. Huấn luyện viên người úc chia sẻ: “u mười chín việt nam đã có một chiến thắng quá xứng đáng. Xin được chúc mừng u mười chín việt nam, các bạn đang sở hữu lứa cầu thủ tài năng. Tôi tin chắc u mười chín việt nam sẽ tiếp tục thành công trong tương lai”.\n",
      "Cũng trong ngày hôm nay, ngay sau trận thắng tưng bừng u mười chín úc với tỷ số năm một của u mười chín việt nam, giám đốc kỹ thuật của a-xơ-nan, ông stephen mo-rô đã gửi điện chúc mừng thầy trò huấn luyện viên gui-lô-m gờ-ra-chen. “Úc là đối thủ rất mạnh, nhưng u mười chín việt nam đã có chiến thắng rất thuyết phục. Thậm chí, tôi đã cảm thấy rất “sốc” khi biết tin u mười chín việt nam có chiến thắng đậm như vậy,” giám đốc kỹ thuật của a-xơ-nan chia sẻ.\n",
      "Sau khi mất chức vô địch tại giải vô địch đông nam á, u mười chín việt nam đã vươn tới cả sân chơi châu lục. Chắc chắn với lứa cầu thủ tài năng này, cùng sự đầu tư hết mình của bầu đức sắp tới, tương lai của bóng đá việt nam đang rất sáng sủa. \n",
      "Lê cường\n",
      "\n",
      "Fellaini đã vắng mặt tại chiến thắng của em-u cuối tuần qua trên sân của san-đơ-len, thậm chí anh không có tên trong danh sách đăng ký thi đấu. Nhưng trái với thông tin về việc tiền vệ người Bỉ bị huấn luyện viên đê-vít mô-ê loại vì phong độ thi đấu không tốt thì nguyên nhân thực sự khiến Fellaini vắng mặt là do chấn thương cổ tay. Fellaini đi gặp chuyên gia tại man-ches-ter. Tiền vệ người Bỉ đã gặp chuyên gia tại man-ches-ter trước khi bay về Bỉ để gặp bác sỹ của đội tuyển quốc gia để đánh giá tình hình. Đây được coi như là thủ tục, bởi chắc chắn Fellaini sẽ không thể thi đấu, thế anh sẽ bở lỡ hai trận đấu quan trọng ở vòng loại world cup gặp cô-ro-a-ti-a và uen. Nếu phải tiến hành phẫu thuật, khả năng Fellaini cần tới bảy tuần để bình phục chấn thương này. Thông tin trên được đích thân huấn luyện viên đê-vít mô-ê xác nhận: “Cậu ấy sẽ đi gặp chuyên gia, có vẻ vấn đề không có được tín hiệu tốt, tuy nhiên chúng tôi vẫn chờ đợi đến thứ hai để có kết quả cụ thể”. Khi trở lại sau chấn thương, Fellaini cũng sẽ phải đeo một thiết bị bảo vệ cổ tay đặc biệt để tránh những thương tổn mới có thể phát sinh. Từ khi chuyển tới em-u với giá trị hai mươi bảy triệu bảng, Fellaini dường như chưa thích nghi được với đội bóng mới. Sau trận thua man city, anh đã bị huấn luyện viên mô-ê đẩy lên băng ghế dự bị. Tuy nhiên, có thể đây chỉ là cách mô-ê giúp Fellaini giảm bớt áp lực và dần thích nghi với lối chơi của em-u. Nếu thiếu vắng Fellaini trong bảy tuần, khó khăn về tuyến giữa của em-u càng thêm chồng chất. Ở khu trung tuyến của đội bóng này, clê-vơ-ly, an-đơ-son đều đang có phong độ sa sút thảm hại, giggs đã quá già. Giờ có lẽ nhiều người đang mong chờ sự trở lại thi đấu của tiền vệ fle-che-ơ, người đã vắng mặt từ tháng mười hai năm trước sau khi phẫu thuật ruột. Cầu thủ này đang chạy đua với thời gian để lấy lại thể lực và cảm giác bóng. Giang Hạ theo đê-i-lỳ mê-ên.\n",
      "\n",
      "Riêng ở đấu trường xi ghêm, bóng bàn Việt Nam từng có cả huy chương vàng nội dung đơn lẫn đồng đội. Đấy là thời kỳ mà chúng ta còn có vũ mạnh cường (nam), ngô thuy thủy (nữ) rất mạnh. Sau này, tiếp bước họ, những đoàn kiến quốc, trần tuấn quýnh cũng thống trị mặt trận đơn ở khu vực đông nam á. Riêng tại xi ghêm hai mươi lăm vào năm hai ngàn không chín ở lào, đội tuyển bóng bàn Việt Nam cực kỳ đồng đều. Khi đó, ba tay vợt của đội nam là đoàn kiến quốc, trần tuấn quýnh và đinh quang linh gần như ngang nhau về mặt trình độ. Chính điều này giúp cho các huấn luyện viên rộng đường trong việc tính toán chiến thuật cho đội tuyển nam, vì sắp tay vợt nào ở vị trí tiên phong, vị trí chủ lực hay vị trí số ba đều được, còn đối thủ thì không thể đoán ra là họ sẽ phải đánh với tay vợt nào mỗi khi đụng đội tuyển nam Việt Nam. Riêng qua hai giải đấu mới đây nhất là giải các tay vợt xuất sắc toàn quốc và giải cây vợt vàng (có tính chất như tiền xi ghêm), mọi chuyện đang thay đổi theo hướng khó nói là tích cực.\n",
      "\n",
      "Tuấn Quỳnh sa sút khiến hy vọng vàng xi ghêm càng xa đội tuyển Việt Nam (ảnh: trọng vũ). Lực lượng của bóng bàn Việt Nam khó có thể nói là tinh nhuệ như trước. Ở đội tuyển nam, kiến quốc đã rút lui do tuổi tác, trong khi trần tuấn quýnh đang sa sút so với chính mình thời đỉnh cao. Cũng ở đội tuyển nam, chỉ còn mỗi mình đinh quang linh là đánh chắc tay. Đấy cũng chính là lý do mà quang linh hầu như không có đối thủ tại giải tay vợt xuất sắc vừa kết thúc. Khả năng giành tấm huy chương vàng đồng đội nam vì thế cũng giảm đáng kể. Phía sau quang linh và tuấn quýnh vẫn là khoảng cách đáng lo ngại của các tay vợt trẻ. Thế nên, đội tuyển bóng bàn nam Việt Nam hầu như không có tay vợt có thể đánh tốt vị trí số ba, xem như chưa đánh đã thiệt thòi so với các đối thủ một trận ở nội dung đồng đội nam. Ở nội dung đơn, do tuấn quýnh sa sút, nên khó hy vọng vào việc tuấn quýnh tái lập được thành tích vô địch đơn nam xi ghêm. Đinh quang linh là tay vợt giỏi, nhưng cái thiếu của quang linh so với đoàn kiến quốc hay trần tuấn quýnh chính là thành tích quốc tế.\n",
      "\n",
      "Ở mặt trận nữ, hy vọng còn ít hơn. Gần chục năm qua, mai hoàng mỹ trang vẫn là tay vợt nữ hàng đầu Việt Nam. Mỹ trang cũng vừa mới vô địch giải các tay vợt xuất sắc toàn quốc mà không gặp trở ngại đáng kể. Chỉ có điều, trên đấu trường quốc tế, mỹ trang hiếm khi làm nên chuyện lớn, chủ yếu vì trình độ của mỹ trang vẫn kém so với các tay vợt mạnh hàng đầu thái lan, hay sing-ga-po. Nguyễn thị việt linh từng nhận được nhiều kỳ vọng, nhưng có vẻ như việt linh chưa thể vượt qua cái ngưỡng của chính mình, để trở thành một tay vợt có đủ chất quái, đủ sức làm nên chuyện lớn ở làng banh nhựa. Sự kết hợp của việt linh và mỹ trang ở nội dung đồng đội cũng không mang lại nhiều hy vọng. Vì cũng giống như đội nam, đội nữ cũng chưa thấy có tay vợt số ba có chuyên môn tốt, nhằm tạo nên sự đồng đều. Một vấn đề khác không thể không tính đến ở chỗ, trong khi các tay vợt hàng đầu Việt Nam hầu như giẫm chân tại chỗ, hoặc sa sút, thì các tay vợt trong khu vực đều có những bước tiến đáng kể. Ở nội dung đồng đội nữ, trước sau thái lan vẫn là đội mạnh, đủ sức tranh chấp với sing-ga-po. Người thái có nan-tha-na cô-m-wong (hạng chín mươi chín thế giới – tay vợt nữ có thứ hạng tốt thứ nhì đông nam á) và a-ni-sa-ra mu-ăng-súc (hạng hai trăm năm mươi chín) đầy tài năng và kinh nghiệm. Trong khi đó, ở nội dung đơn nữ, sing-ga-po với những tay vợt trung quốc nhập tịch như linh y (hạng chín mươi hai – tay vợt nữ có thứ hạng cao nhất đông nam á), trâu di-han (hạng một trăm), lisiyun isabelle (hạng hai trăm mười bảy) đủ sức đánh bại các tay vợt hàng đầu Việt Nam. Điều đáng lo cho bóng bàn Việt Nam ở chỗ, không chỉ đứng trước nguy cơ “trắng” vàng ở xi ghêm hai mươi bảy, thì với công tác đào tạo trẻ hiện nay, ở các kỳ xi ghêm tiếp theo, chúng ta cũng chưa chắc có lại tấm huy chương vàng mà chúng ta từng có. Kim điền.\n",
      "\n",
      "Kể từ khi cập bến li-béc-ty, mi-chu đã thi đấu rất thăng hoa với mười lăm bàn thắng tại pri-me-a giải ngay ở mùa giải đầu tiên khoác áo su-wan-se. Mùa này, phong độ của chân sút hai mươi bảy tuổi vẫn khá ổn định với năm pha lập công sau mười ba trận trên các đấu trường. Sau nhiều nỗ lực, mi-chu đã được trao cơ hội ở tuyển tây ban nha. Điều đáng tiếc cho mi-chu là suốt một năm qua, anh chẳng thể chen chân nổi vào đội tuyển quốc gia tây ban nha do tình trạng thừa mứa ngôi sao trong tay vin-sen-te đen bốt-ke. Mãi cho tới hôm nay, cựu tiền đạo ra-yo va-lê-ca-nô mới lần đầu tiên biết đến cảm giác lên tuyển. Sở dĩ đen bốt-ke phải cho gọi mi-chu là do ngày hôm qua, đa-vid vi-la đã bất ngờ dính chấn thương. “Ngài râu kẽm” không có nhiều sự lựa chọn do trước đó, phéc-nan-đô to-rét cũng đã phải “vào viện” và nghỉ ba tuần do một vết đau ở đầu gối. Ngoài mi-chu, đen bốt-ke còn chuẩn bị trao cơ hội cho một “lính mới” khác là đi-e-gô cô-ta. “Sát thủ” của a-ti-lê-tíc ma-drít đang thi đấu quá hay từ đầu mùa với mười bàn qua tám trận ở la li-ga, thành tích còn vượt trội hơn cả các siêu sao li-ô-nel mét-xi hay si-ê.ronan-đô. Tuy nhiên, nếu như mi-chu sẽ được lên tập trung cùng đội tuyển ngay thì cô-ta vẫn phải đợi giấy phép từ pi-fa. Hai ngày trước, tiền đạo sinh tại bra-xin này đã tuyên bố anh muốn được cống hiến cho tây ban nha thay vì se-le-ca-o do không bao giờ được huấn luyện viên sco-la-ri ngó ngàng tới. Trong danh sách triệu tập của la ro-ha trước thềm hai trận đấu với be-la-rút (mười một tháng mười) và gru-zi-a (mười lăm tháng mười) lần này, bên cạnh sự vắng mặt bất khả kháng của bộ đôi vi-la - to-rét, những ro-be-r-to sô-đa-đô (tot-en-ham) hay phéc-nan-đô llo-ren-te (ju-ven-tút) cũng bị cho ra rìa. Chỉ có al-va-ro ne-gre-do - chân sút đang để lại những ấn tượng tốt tại man si-ti, là gương mặt quen thuộc trên hàng công được triệu tập. Nguyễn huy theo ma-r-ca.\n",
      "\n"
     ]
    }
   ],
   "source": [
    "import re\n",
    "\n",
    "# Path to your log file\n",
    "log_file_path = \"D:/text-normalization/data_label.log\"\n",
    "\n",
    "# List to store the extracted paragraphs\n",
    "extracted_paragraphs = []\n",
    "\n",
    "# Regex pattern to capture text between 'Finish processing paragraph' and 'INFO: ================================'\n",
    "pattern = re.compile(r'Finish processing paragraph \\d+\\n(.*?)\\n\\d{2}:\\d{2}:\\d{2} INFO: ================================', re.DOTALL)\n",
    "\n",
    "# Open and read the log file\n",
    "with open(log_file_path, 'r', encoding='utf-8') as log_file:\n",
    "    log_content = log_file.read()\n",
    "    \n",
    "    # Find all matches for the pattern\n",
    "    matches = pattern.findall(log_content)\n",
    "    \n",
    "    # Store the extracted paragraphs\n",
    "    extracted_paragraphs.extend(matches)\n",
    "\n",
    "# Printing the extracted paragraphs (optional)\n",
    "for i in range(5):\n",
    "  print(extracted_paragraphs[i])\n",
    "\n",
    "# You can then save the extracted paragraphs to a CSV file if needed\n"
   ]
  },
  {
   "cell_type": "code",
   "execution_count": 5,
   "metadata": {},
   "outputs": [
    {
     "data": {
      "text/plain": [
       "'Sau chức vô địch bun-de-liga và champions lếch, ba-yer munich bước vào trận chung kết đê-ê-ép cúp (cúp quốc gia đức) với cơ hội trở thành đội bóng đức đầu tiên làm nên cú ăn ba lịch sử. So với trận chung kết champions lếch, đội hình ra quân của ba-yer munich có hai sự thiếu vắng đáng kể khi trung vệ đan-te và tiền vệ lu-iz gu-ta-xtô không thể cùng đồng đội tham dự trận đấu tại béc-lin vì bận tập trung cùng đội tuyển bra-xin chuẩn bị cho côn-fed cúp.  \\nBa-yer munich trải qua chín mươi phút nhọc nhằn trước s-tút-gác. Ngoài ra huấn luyện viên jupp hayn-ke-s cũng có sự thay đổi bất ngờ ở vị trí trung phong khi sử dụng ma-ri-ô go-mez thi đấu ngay từ đầu thay vì ma-ri-ô man-đu-kích. Tương tự như trận chung kết champions lếch, ba-yer munich là đội nhập cuộc chậm hơn và để cho đối phương lấn lướt về mặt thế trận lẫn số cơ hội ăn bàn. Khung thành của thủ môn no-uy-er liên tục bị chao đảo bởi những pha dàn xếp tấn công sắc sảo của s-tút-gác mà đáng kể nhất là hai pha dứt điểm của ma-xim và nie-đe-me-ier.  \\nSau khoảng hai mươi phút đầu thi đấu khá bế tắc, cỗ máy chiến thắng của huấn luyện viên jupp hayn-ke-s dần vào guồng và lấy lại thế trận. Phút hai mươi bảy, a-la-ba được trao cơ hội ghi bàn nhưng lại dứt điểm trúng người thủ thành ul-reich trong tình huống đối mặt. Tuy nhiên chỉ mười phút sau, tra-o-re lóng ngóng phạm lỗi với phi-líp la-m trong vòng cấm địa và tô-mát mu-lơ không bỏ lỡ cơ hội từ khoảng cách mười một mét mở tỉ số cho “hùm xám” xứ ba-va-ri-a.  \\nBước sang hiệp đấu thứ hai, sự sắc sảo trong tấn công của ba-yer munich càng được thể hiện rõ rệt. Chỉ ba phút sau khi hiệp hai bắt đầu, bắt nguồn từ pha chồng cách đẹp mắt giữa ro-bên và la-m bên cánh phải rồi căng ngang vào bên trong, ma-ri-ô go-mez dễ dàng nhân đôi cách biệt bằng pha băng vào dứt điểm cận thành tung lưới ul-reich. Đến phút sáu mươi mốt, kịch bản được lặp lại nhưng lần này người căng ngang cho go-mez ghi bàn là tô-mát mu-lơ.  \\nTưởng chừng như đã nắm chắc chiến thắng trong tay, các cầu thủ ba-yer munich có dấu hiệu chủ quan trong khi s-tút-gác vẫn thi đấu đầy quyết tâm, chính vì vậy mà những phút cuối trận đã diễn ra vô cùng căng thẳng và kịch tính. Phút thứ bảy mươi, từ quả tạt bóng như đặt của g. sa-kai, har-nik đánh đầu chéo góc đẹp mắt hạ gục thủ thành no-uy-er rút ngắn tỉ số trận đấu xuống còn một ba cho s-tút-gác.  \\nBa-yer munich hoàn tất cú ăn ba lịch sử. Chỉ chín phút sau, cơ hội làm nên cú lội ngược dòng ngoạn mục hiển hiện trước mắt s-tút-gác khi har-nik một lần nữa làm tung lưới no-uy-er sau ba cú dứt điểm liên tiếp trong vòng cấm. Tuy nhiên đó là tất cả những gì mà s-tút-gác có thể làm được khi những phút cuối cùng ba-yer munich chơi tử thủ đầy kiên cường để bảo toàn cách biệt một bàn mong manh.  \\nTrận đấu kết thúc với tỉ số ba hai nghiêng về ba-yer munich và thầy trò jupp hayn-ke-s chính thức đăng quang tại cúp quốc gia đức. Với danh hiệu này, “hùm xám” xứ ba-va-ri-a đã trở thành đội bóng đức đầu tiên làm nên cú ăn ba lịch sử. Ngoài ra chiến thắng trước s-tút-gác có thể xem là lời chia tay không thể ngọt ngào hơn của huấn luyện viên jupp hayn-ke-s, người sẽ nhượng lại vị trí dẫn dắt ba-yer munich cho pep gua-đi-ô-la từ tháng bảy tới.  \\nĐội hình thi đấu:  \\nBa-yer munich: no-uy-er; la-m, van bu-yten, bo-a-teng, a-la-ba; ha-vi ma-ti-nez, schwein-stei-ger; ro-bên (ti-mo-schuk tám mươi ba), t. mu-lơ, ri-be-ri (sha-ki-ri chín mươi phút một); go-mez (man-đu-kích sáu mươi hai).  \\nS-tút-gác: ul-reich; ru-e-di-ger, ta-sci, nie-đe-me-ier, mo-li-na-ro (sa-kai sáu mươi bảy); gent-ner, bo-ka; har-nik, ma-xim (o-ka-za-ki sáu mươi mốt), tra-o-re (ca-cao bẩy mươi lăm); i-bi-se-vic.  \\nNgọc Trung\\n'"
      ]
     },
     "execution_count": 5,
     "metadata": {},
     "output_type": "execute_result"
    }
   ],
   "source": [
    "len(extracted_paragraphs) \n",
    "extracted_paragraphs[1500]"
   ]
  },
  {
   "cell_type": "code",
   "execution_count": 9,
   "metadata": {},
   "outputs": [],
   "source": [
    "from typing import List\n",
    "# from core.config.config import LABELED_DATA_DIR, LABELED_DATA_FILE\n",
    "LABELED_DATA_DIR = \"data_storage/processed\"\n",
    "LABELED_DATA_FILE = \"processed_data.csv\"\n",
    "import os\n",
    "\n",
    "\n",
    "def save_datas_to_file(labeled_datas: List) -> None:\n",
    "      data_dict = {\"labeled_datas\": labeled_datas}\n",
    "      \n",
    "      df = pd.DataFrame(data_dict)\n",
    "      if not os.path.exists(LABELED_DATA_DIR):\n",
    "        os.makedirs(LABELED_DATA_DIR, exist_ok=True)\n",
    "        \n",
    "      df.to_csv(os.path.join(LABELED_DATA_DIR, LABELED_DATA_FILE), mode=\"a\", index=False)"
   ]
  },
  {
   "cell_type": "code",
   "execution_count": 10,
   "metadata": {},
   "outputs": [],
   "source": [
    "save_datas_to_file(extracted_paragraphs)"
   ]
  }
 ],
 "metadata": {
  "kernelspec": {
   "display_name": "fake-news",
   "language": "python",
   "name": "python3"
  },
  "language_info": {
   "codemirror_mode": {
    "name": "ipython",
    "version": 3
   },
   "file_extension": ".py",
   "mimetype": "text/x-python",
   "name": "python",
   "nbconvert_exporter": "python",
   "pygments_lexer": "ipython3",
   "version": "3.10.16"
  }
 },
 "nbformat": 4,
 "nbformat_minor": 2
}
